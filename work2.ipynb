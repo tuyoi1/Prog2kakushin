{
  "nbformat": 4,
  "nbformat_minor": 0,
  "metadata": {
    "colab": {
      "provenance": [],
      "authorship_tag": "ABX9TyPoI4YFmJF1gGqeWzlCB9S1",
      "include_colab_link": true
    },
    "kernelspec": {
      "name": "python3",
      "display_name": "Python 3"
    },
    "language_info": {
      "name": "python"
    }
  },
  "cells": [
    {
      "cell_type": "markdown",
      "metadata": {
        "id": "view-in-github",
        "colab_type": "text"
      },
      "source": [
        "<a href=\"https://colab.research.google.com/github/tuyoi1/Prog2kakushin/blob/main/work2.ipynb\" target=\"_parent\"><img src=\"https://colab.research.google.com/assets/colab-badge.svg\" alt=\"Open In Colab\"/></a>"
      ]
    },
    {
      "cell_type": "markdown",
      "source": [
        "入力された数値をグラフにプロットし直線近似を行い、グラフと傾き、切片を出力する"
      ],
      "metadata": {
        "id": "AuM7-GPnBAE5"
      }
    },
    {
      "cell_type": "code",
      "execution_count": null,
      "metadata": {
        "id": "swOZhoCxNsn6"
      },
      "outputs": [],
      "source": [
        "import numpy as np\n",
        "from matplotlib import pyplot as plt\n",
        "\n",
        "data = [[0],[0]]\n",
        "za1='(x,y)='\n",
        "kazu=int(input('要素の数を入力してください'))\n",
        "print('それぞれの数値は整数で入力してください')\n",
        "array1 = np.array([[0],[0]])\n",
        "array2 = np.array([[0],[0]])\n",
        "for i in range(kazu):\n",
        "  print(f'{i+1}個目')\n",
        "  x=int(input('xの値:'))\n",
        "  y=int(input('yの値:'))\n",
        "  za2=(f',({x},{y})')\n",
        "  za1+=za2\n",
        "  if i == 0:\n",
        "    array1[0,0]=x\n",
        "    array1[1,0]=y\n",
        "  else:\n",
        "    array2[0,0]=x\n",
        "    array2[1,0]=y\n",
        "    array1=np.append(array1, array2, axis=1)\n",
        "print(za1)\n",
        "\n",
        "x_la=input('横軸のラベル[単位]：')\n",
        "y_la=input('縦軸のラベル[単位]：')\n",
        "\n",
        "f=array1[1,:]\n",
        "\n",
        "x=array1[0,:]\n",
        "y=np.linspace(1,len(f),len(f))\n",
        "\n",
        "a,b=np.polyfit(x,f,1)\n",
        "\n",
        "fh=a*x+b\n",
        "\n",
        "plt.figure(1)\n",
        "\n",
        "plt.plot(x,f ,linestyle='',marker='.')\n",
        "plt.plot(x,fh)\n",
        "\n",
        "plt.xlabel(x_la)\n",
        "plt.ylabel(y_la)\n",
        "\n",
        "plt.grid()\n",
        "plt.show()\n",
        "\n",
        "print(f'傾き：{a}')\n",
        "print(f'切片：{b}')"
      ]
    }
  ]
}